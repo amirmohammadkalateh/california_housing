{
  "nbformat": 4,
  "nbformat_minor": 0,
  "metadata": {
    "colab": {
      "provenance": [],
      "authorship_tag": "ABX9TyPxgFjNtVPrFCYf4LTddO0B",
      "include_colab_link": true
    },
    "kernelspec": {
      "name": "python3",
      "display_name": "Python 3"
    },
    "language_info": {
      "name": "python"
    }
  },
  "cells": [
    {
      "cell_type": "markdown",
      "metadata": {
        "id": "view-in-github",
        "colab_type": "text"
      },
      "source": [
        "<a href=\"https://colab.research.google.com/github/amirmohammadkalateh/california_housing/blob/main/regression_fetch_california_housing.ipynb\" target=\"_parent\"><img src=\"https://colab.research.google.com/assets/colab-badge.svg\" alt=\"Open In Colab\"/></a>"
      ]
    },
    {
      "cell_type": "code",
      "execution_count": 13,
      "metadata": {
        "id": "uJFSfdergt-3"
      },
      "outputs": [],
      "source": [
        "import tensorflow as tf\n",
        "from tensorflow import keras\n",
        "from sklearn.datasets import fetch_california_housing\n",
        "import matplotlib.pyplot as plt\n",
        "import numpy as np\n"
      ]
    },
    {
      "cell_type": "code",
      "source": [
        "keras.__version__\n"
      ],
      "metadata": {
        "colab": {
          "base_uri": "https://localhost:8080/",
          "height": 36
        },
        "id": "syW29WFbiEut",
        "outputId": "867bd4be-95cb-4064-8148-c058cbe4647e"
      },
      "execution_count": 14,
      "outputs": [
        {
          "output_type": "execute_result",
          "data": {
            "text/plain": [
              "'3.8.0'"
            ],
            "application/vnd.google.colaboratory.intrinsic+json": {
              "type": "string"
            }
          },
          "metadata": {},
          "execution_count": 14
        }
      ]
    },
    {
      "cell_type": "code",
      "source": [
        "californai_housing = fetch_california_housing()"
      ],
      "metadata": {
        "id": "-ionPszZiQLz"
      },
      "execution_count": 17,
      "outputs": []
    },
    {
      "cell_type": "code",
      "source": [
        "from sklearn.model_selection import train_test_split\n",
        "X_train0, X_test, Y_train0, Y_test = train_test_split(californai_housing[\"data\"],\n",
        "                 californai_housing[\"target\"])"
      ],
      "metadata": {
        "id": "jDC1SUdSivJG"
      },
      "execution_count": 22,
      "outputs": []
    },
    {
      "cell_type": "code",
      "source": [
        "from sklearn.model_selection import train_test_split\n",
        "X_train1, X_validation, Y_train1, Y_validation = train_test_split(X_train0, Y_train0)"
      ],
      "metadata": {
        "id": "qA2EMl4bkJ7J"
      },
      "execution_count": 24,
      "outputs": []
    },
    {
      "cell_type": "code",
      "source": [
        "print(X_test.shape)\n",
        "print(X_train0.shape)\n",
        "print(X_train1.shape)\n",
        "print(X_validation.shape)\n"
      ],
      "metadata": {
        "colab": {
          "base_uri": "https://localhost:8080/"
        },
        "id": "C3aFEwC_mmKR",
        "outputId": "13c21e94-4d1a-4793-dcb2-c0fd75aa241a"
      },
      "execution_count": 30,
      "outputs": [
        {
          "output_type": "stream",
          "name": "stdout",
          "text": [
            "(5160, 8)\n",
            "(15480, 8)\n",
            "(11610, 8)\n",
            "(3870, 8)\n"
          ]
        }
      ]
    },
    {
      "cell_type": "code",
      "source": [
        "from sklearn.preprocessing import StandardScaler\n",
        "scaler = StandardScaler()\n",
        "X_train1_scaled = scaler.fit_transform(X_train1)\n",
        "X_validation_scaled = scaler.transform(X_validation)\n",
        "X_test_scaled = scaler.transform(X_test)"
      ],
      "metadata": {
        "id": "Td60UChxnOFz"
      },
      "execution_count": 32,
      "outputs": []
    },
    {
      "cell_type": "code",
      "source": [
        "model = keras.models.Sequential([\n",
        "    keras.layers.Dense(50, activation=\"relu\"),\n",
        "    keras.layers.Dense(10, activation=\"relu\"),\n",
        "    keras.layers.Dense(1, )\n",
        "])\n",
        "\n",
        "\n"
      ],
      "metadata": {
        "id": "VuDT5_IqpEcW"
      },
      "execution_count": 39,
      "outputs": []
    },
    {
      "cell_type": "code",
      "source": [
        "#Compile\n",
        "model.compile(loss = \"mean_squared_error\",\n",
        "              optimizer = \"sgd\",\n",
        "              metrics = [\"mean_absolute_error\"])"
      ],
      "metadata": {
        "id": "ET8fSdsOqvyl"
      },
      "execution_count": 44,
      "outputs": []
    },
    {
      "cell_type": "code",
      "source": [
        "model.fit(X_train1_scaled,\n",
        "          Y_train1,\n",
        "          epochs=50,\n",
        "          validation_data=(X_validation_scaled, Y_validation))"
      ],
      "metadata": {
        "colab": {
          "base_uri": "https://localhost:8080/"
        },
        "id": "9oGyRthKrBod",
        "outputId": "a188a422-d20e-4fc4-c501-50111c1d2f1a"
      },
      "execution_count": 46,
      "outputs": [
        {
          "output_type": "stream",
          "name": "stdout",
          "text": [
            "Epoch 1/50\n",
            "\u001b[1m363/363\u001b[0m \u001b[32m━━━━━━━━━━━━━━━━━━━━\u001b[0m\u001b[37m\u001b[0m \u001b[1m2s\u001b[0m 6ms/step - loss: 0.2520 - mean_absolute_error: 0.3457 - val_loss: 0.3004 - val_mean_absolute_error: 0.3596\n",
            "Epoch 2/50\n",
            "\u001b[1m363/363\u001b[0m \u001b[32m━━━━━━━━━━━━━━━━━━━━\u001b[0m\u001b[37m\u001b[0m \u001b[1m1s\u001b[0m 3ms/step - loss: 0.2520 - mean_absolute_error: 0.3448 - val_loss: 0.2923 - val_mean_absolute_error: 0.3577\n",
            "Epoch 3/50\n",
            "\u001b[1m363/363\u001b[0m \u001b[32m━━━━━━━━━━━━━━━━━━━━\u001b[0m\u001b[37m\u001b[0m \u001b[1m1s\u001b[0m 3ms/step - loss: 0.2628 - mean_absolute_error: 0.3494 - val_loss: 0.2875 - val_mean_absolute_error: 0.3568\n",
            "Epoch 4/50\n",
            "\u001b[1m363/363\u001b[0m \u001b[32m━━━━━━━━━━━━━━━━━━━━\u001b[0m\u001b[37m\u001b[0m \u001b[1m1s\u001b[0m 3ms/step - loss: 0.2693 - mean_absolute_error: 0.3526 - val_loss: 0.2999 - val_mean_absolute_error: 0.3582\n",
            "Epoch 5/50\n",
            "\u001b[1m363/363\u001b[0m \u001b[32m━━━━━━━━━━━━━━━━━━━━\u001b[0m\u001b[37m\u001b[0m \u001b[1m1s\u001b[0m 2ms/step - loss: 0.2659 - mean_absolute_error: 0.3515 - val_loss: 0.2803 - val_mean_absolute_error: 0.3643\n",
            "Epoch 6/50\n",
            "\u001b[1m363/363\u001b[0m \u001b[32m━━━━━━━━━━━━━━━━━━━━\u001b[0m\u001b[37m\u001b[0m \u001b[1m1s\u001b[0m 3ms/step - loss: 0.2633 - mean_absolute_error: 0.3515 - val_loss: 0.2858 - val_mean_absolute_error: 0.3645\n",
            "Epoch 7/50\n",
            "\u001b[1m363/363\u001b[0m \u001b[32m━━━━━━━━━━━━━━━━━━━━\u001b[0m\u001b[37m\u001b[0m \u001b[1m1s\u001b[0m 3ms/step - loss: 0.2575 - mean_absolute_error: 0.3503 - val_loss: 0.2933 - val_mean_absolute_error: 0.3736\n",
            "Epoch 8/50\n",
            "\u001b[1m363/363\u001b[0m \u001b[32m━━━━━━━━━━━━━━━━━━━━\u001b[0m\u001b[37m\u001b[0m \u001b[1m2s\u001b[0m 3ms/step - loss: 0.2621 - mean_absolute_error: 0.3549 - val_loss: 0.2847 - val_mean_absolute_error: 0.3636\n",
            "Epoch 9/50\n",
            "\u001b[1m363/363\u001b[0m \u001b[32m━━━━━━━━━━━━━━━━━━━━\u001b[0m\u001b[37m\u001b[0m \u001b[1m1s\u001b[0m 4ms/step - loss: 0.2507 - mean_absolute_error: 0.3440 - val_loss: 0.2897 - val_mean_absolute_error: 0.3520\n",
            "Epoch 10/50\n",
            "\u001b[1m363/363\u001b[0m \u001b[32m━━━━━━━━━━━━━━━━━━━━\u001b[0m\u001b[37m\u001b[0m \u001b[1m2s\u001b[0m 2ms/step - loss: 0.2535 - mean_absolute_error: 0.3466 - val_loss: 0.3180 - val_mean_absolute_error: 0.3670\n",
            "Epoch 11/50\n",
            "\u001b[1m363/363\u001b[0m \u001b[32m━━━━━━━━━━━━━━━━━━━━\u001b[0m\u001b[37m\u001b[0m \u001b[1m1s\u001b[0m 3ms/step - loss: 0.2647 - mean_absolute_error: 0.3539 - val_loss: 0.2969 - val_mean_absolute_error: 0.3637\n",
            "Epoch 12/50\n",
            "\u001b[1m363/363\u001b[0m \u001b[32m━━━━━━━━━━━━━━━━━━━━\u001b[0m\u001b[37m\u001b[0m \u001b[1m1s\u001b[0m 3ms/step - loss: 0.2581 - mean_absolute_error: 0.3500 - val_loss: 0.2904 - val_mean_absolute_error: 0.3554\n",
            "Epoch 13/50\n",
            "\u001b[1m363/363\u001b[0m \u001b[32m━━━━━━━━━━━━━━━━━━━━\u001b[0m\u001b[37m\u001b[0m \u001b[1m1s\u001b[0m 2ms/step - loss: 0.2555 - mean_absolute_error: 0.3473 - val_loss: 0.2867 - val_mean_absolute_error: 0.3678\n",
            "Epoch 14/50\n",
            "\u001b[1m363/363\u001b[0m \u001b[32m━━━━━━━━━━━━━━━━━━━━\u001b[0m\u001b[37m\u001b[0m \u001b[1m1s\u001b[0m 3ms/step - loss: 0.2521 - mean_absolute_error: 0.3436 - val_loss: 0.3159 - val_mean_absolute_error: 0.3849\n",
            "Epoch 15/50\n",
            "\u001b[1m363/363\u001b[0m \u001b[32m━━━━━━━━━━━━━━━━━━━━\u001b[0m\u001b[37m\u001b[0m \u001b[1m1s\u001b[0m 3ms/step - loss: 0.2514 - mean_absolute_error: 0.3477 - val_loss: 0.2998 - val_mean_absolute_error: 0.3746\n",
            "Epoch 16/50\n",
            "\u001b[1m363/363\u001b[0m \u001b[32m━━━━━━━━━━━━━━━━━━━━\u001b[0m\u001b[37m\u001b[0m \u001b[1m1s\u001b[0m 2ms/step - loss: 0.2548 - mean_absolute_error: 0.3488 - val_loss: 0.2866 - val_mean_absolute_error: 0.3610\n",
            "Epoch 17/50\n",
            "\u001b[1m363/363\u001b[0m \u001b[32m━━━━━━━━━━━━━━━━━━━━\u001b[0m\u001b[37m\u001b[0m \u001b[1m1s\u001b[0m 3ms/step - loss: 0.2608 - mean_absolute_error: 0.3527 - val_loss: 0.3072 - val_mean_absolute_error: 0.3739\n",
            "Epoch 18/50\n",
            "\u001b[1m363/363\u001b[0m \u001b[32m━━━━━━━━━━━━━━━━━━━━\u001b[0m\u001b[37m\u001b[0m \u001b[1m1s\u001b[0m 3ms/step - loss: 0.2633 - mean_absolute_error: 0.3503 - val_loss: 0.2860 - val_mean_absolute_error: 0.3558\n",
            "Epoch 19/50\n",
            "\u001b[1m363/363\u001b[0m \u001b[32m━━━━━━━━━━━━━━━━━━━━\u001b[0m\u001b[37m\u001b[0m \u001b[1m2s\u001b[0m 2ms/step - loss: 0.2581 - mean_absolute_error: 0.3470 - val_loss: 0.2992 - val_mean_absolute_error: 0.3703\n",
            "Epoch 20/50\n",
            "\u001b[1m363/363\u001b[0m \u001b[32m━━━━━━━━━━━━━━━━━━━━\u001b[0m\u001b[37m\u001b[0m \u001b[1m1s\u001b[0m 2ms/step - loss: 0.2669 - mean_absolute_error: 0.3536 - val_loss: 0.2895 - val_mean_absolute_error: 0.3617\n",
            "Epoch 21/50\n",
            "\u001b[1m363/363\u001b[0m \u001b[32m━━━━━━━━━━━━━━━━━━━━\u001b[0m\u001b[37m\u001b[0m \u001b[1m1s\u001b[0m 2ms/step - loss: 0.2691 - mean_absolute_error: 0.3543 - val_loss: 0.2988 - val_mean_absolute_error: 0.3735\n",
            "Epoch 22/50\n",
            "\u001b[1m363/363\u001b[0m \u001b[32m━━━━━━━━━━━━━━━━━━━━\u001b[0m\u001b[37m\u001b[0m \u001b[1m1s\u001b[0m 3ms/step - loss: 0.2586 - mean_absolute_error: 0.3493 - val_loss: 0.3186 - val_mean_absolute_error: 0.3892\n",
            "Epoch 23/50\n",
            "\u001b[1m363/363\u001b[0m \u001b[32m━━━━━━━━━━━━━━━━━━━━\u001b[0m\u001b[37m\u001b[0m \u001b[1m1s\u001b[0m 3ms/step - loss: 0.2666 - mean_absolute_error: 0.3534 - val_loss: 0.2811 - val_mean_absolute_error: 0.3599\n",
            "Epoch 24/50\n",
            "\u001b[1m363/363\u001b[0m \u001b[32m━━━━━━━━━━━━━━━━━━━━\u001b[0m\u001b[37m\u001b[0m \u001b[1m1s\u001b[0m 2ms/step - loss: 0.2572 - mean_absolute_error: 0.3502 - val_loss: 0.2818 - val_mean_absolute_error: 0.3544\n",
            "Epoch 25/50\n",
            "\u001b[1m363/363\u001b[0m \u001b[32m━━━━━━━━━━━━━━━━━━━━\u001b[0m\u001b[37m\u001b[0m \u001b[1m1s\u001b[0m 2ms/step - loss: 0.2639 - mean_absolute_error: 0.3524 - val_loss: 0.2817 - val_mean_absolute_error: 0.3551\n",
            "Epoch 26/50\n",
            "\u001b[1m363/363\u001b[0m \u001b[32m━━━━━━━━━━━━━━━━━━━━\u001b[0m\u001b[37m\u001b[0m \u001b[1m1s\u001b[0m 3ms/step - loss: 0.2609 - mean_absolute_error: 0.3507 - val_loss: 0.2783 - val_mean_absolute_error: 0.3493\n",
            "Epoch 27/50\n",
            "\u001b[1m363/363\u001b[0m \u001b[32m━━━━━━━━━━━━━━━━━━━━\u001b[0m\u001b[37m\u001b[0m \u001b[1m2s\u001b[0m 4ms/step - loss: 0.2528 - mean_absolute_error: 0.3446 - val_loss: 0.2843 - val_mean_absolute_error: 0.3571\n",
            "Epoch 28/50\n",
            "\u001b[1m363/363\u001b[0m \u001b[32m━━━━━━━━━━━━━━━━━━━━\u001b[0m\u001b[37m\u001b[0m \u001b[1m2s\u001b[0m 3ms/step - loss: 0.2662 - mean_absolute_error: 0.3544 - val_loss: 0.2928 - val_mean_absolute_error: 0.3642\n",
            "Epoch 29/50\n",
            "\u001b[1m363/363\u001b[0m \u001b[32m━━━━━━━━━━━━━━━━━━━━\u001b[0m\u001b[37m\u001b[0m \u001b[1m1s\u001b[0m 2ms/step - loss: 0.2503 - mean_absolute_error: 0.3414 - val_loss: 0.2859 - val_mean_absolute_error: 0.3598\n",
            "Epoch 30/50\n",
            "\u001b[1m363/363\u001b[0m \u001b[32m━━━━━━━━━━━━━━━━━━━━\u001b[0m\u001b[37m\u001b[0m \u001b[1m1s\u001b[0m 3ms/step - loss: 0.2544 - mean_absolute_error: 0.3452 - val_loss: 0.2822 - val_mean_absolute_error: 0.3584\n",
            "Epoch 31/50\n",
            "\u001b[1m363/363\u001b[0m \u001b[32m━━━━━━━━━━━━━━━━━━━━\u001b[0m\u001b[37m\u001b[0m \u001b[1m1s\u001b[0m 2ms/step - loss: 0.2680 - mean_absolute_error: 0.3556 - val_loss: 0.2825 - val_mean_absolute_error: 0.3543\n",
            "Epoch 32/50\n",
            "\u001b[1m363/363\u001b[0m \u001b[32m━━━━━━━━━━━━━━━━━━━━\u001b[0m\u001b[37m\u001b[0m \u001b[1m1s\u001b[0m 2ms/step - loss: 0.2567 - mean_absolute_error: 0.3506 - val_loss: 0.2831 - val_mean_absolute_error: 0.3607\n",
            "Epoch 33/50\n",
            "\u001b[1m363/363\u001b[0m \u001b[32m━━━━━━━━━━━━━━━━━━━━\u001b[0m\u001b[37m\u001b[0m \u001b[1m1s\u001b[0m 3ms/step - loss: 0.2550 - mean_absolute_error: 0.3515 - val_loss: 0.2992 - val_mean_absolute_error: 0.3578\n",
            "Epoch 34/50\n",
            "\u001b[1m363/363\u001b[0m \u001b[32m━━━━━━━━━━━━━━━━━━━━\u001b[0m\u001b[37m\u001b[0m \u001b[1m1s\u001b[0m 2ms/step - loss: 0.2543 - mean_absolute_error: 0.3498 - val_loss: 0.2865 - val_mean_absolute_error: 0.3663\n",
            "Epoch 35/50\n",
            "\u001b[1m363/363\u001b[0m \u001b[32m━━━━━━━━━━━━━━━━━━━━\u001b[0m\u001b[37m\u001b[0m \u001b[1m1s\u001b[0m 3ms/step - loss: 0.2380 - mean_absolute_error: 0.3376 - val_loss: 0.2859 - val_mean_absolute_error: 0.3517\n",
            "Epoch 36/50\n",
            "\u001b[1m363/363\u001b[0m \u001b[32m━━━━━━━━━━━━━━━━━━━━\u001b[0m\u001b[37m\u001b[0m \u001b[1m2s\u001b[0m 4ms/step - loss: 0.2587 - mean_absolute_error: 0.3451 - val_loss: 0.2879 - val_mean_absolute_error: 0.3598\n",
            "Epoch 37/50\n",
            "\u001b[1m363/363\u001b[0m \u001b[32m━━━━━━━━━━━━━━━━━━━━\u001b[0m\u001b[37m\u001b[0m \u001b[1m2s\u001b[0m 3ms/step - loss: 0.2499 - mean_absolute_error: 0.3445 - val_loss: 0.2843 - val_mean_absolute_error: 0.3618\n",
            "Epoch 38/50\n",
            "\u001b[1m363/363\u001b[0m \u001b[32m━━━━━━━━━━━━━━━━━━━━\u001b[0m\u001b[37m\u001b[0m \u001b[1m1s\u001b[0m 2ms/step - loss: 0.2522 - mean_absolute_error: 0.3433 - val_loss: 0.2845 - val_mean_absolute_error: 0.3628\n",
            "Epoch 39/50\n",
            "\u001b[1m363/363\u001b[0m \u001b[32m━━━━━━━━━━━━━━━━━━━━\u001b[0m\u001b[37m\u001b[0m \u001b[1m1s\u001b[0m 2ms/step - loss: 0.2547 - mean_absolute_error: 0.3453 - val_loss: 0.2783 - val_mean_absolute_error: 0.3533\n",
            "Epoch 40/50\n",
            "\u001b[1m363/363\u001b[0m \u001b[32m━━━━━━━━━━━━━━━━━━━━\u001b[0m\u001b[37m\u001b[0m \u001b[1m1s\u001b[0m 3ms/step - loss: 0.2528 - mean_absolute_error: 0.3454 - val_loss: 0.2840 - val_mean_absolute_error: 0.3627\n",
            "Epoch 41/50\n",
            "\u001b[1m363/363\u001b[0m \u001b[32m━━━━━━━━━━━━━━━━━━━━\u001b[0m\u001b[37m\u001b[0m \u001b[1m1s\u001b[0m 3ms/step - loss: 0.2557 - mean_absolute_error: 0.3455 - val_loss: 0.2881 - val_mean_absolute_error: 0.3609\n",
            "Epoch 42/50\n",
            "\u001b[1m363/363\u001b[0m \u001b[32m━━━━━━━━━━━━━━━━━━━━\u001b[0m\u001b[37m\u001b[0m \u001b[1m1s\u001b[0m 3ms/step - loss: 0.2650 - mean_absolute_error: 0.3511 - val_loss: 0.2801 - val_mean_absolute_error: 0.3527\n",
            "Epoch 43/50\n",
            "\u001b[1m363/363\u001b[0m \u001b[32m━━━━━━━━━━━━━━━━━━━━\u001b[0m\u001b[37m\u001b[0m \u001b[1m1s\u001b[0m 3ms/step - loss: 0.2541 - mean_absolute_error: 0.3486 - val_loss: 0.2882 - val_mean_absolute_error: 0.3633\n",
            "Epoch 44/50\n",
            "\u001b[1m363/363\u001b[0m \u001b[32m━━━━━━━━━━━━━━━━━━━━\u001b[0m\u001b[37m\u001b[0m \u001b[1m1s\u001b[0m 2ms/step - loss: 0.2528 - mean_absolute_error: 0.3457 - val_loss: 0.2842 - val_mean_absolute_error: 0.3580\n",
            "Epoch 45/50\n",
            "\u001b[1m363/363\u001b[0m \u001b[32m━━━━━━━━━━━━━━━━━━━━\u001b[0m\u001b[37m\u001b[0m \u001b[1m1s\u001b[0m 3ms/step - loss: 0.2549 - mean_absolute_error: 0.3434 - val_loss: 0.2879 - val_mean_absolute_error: 0.3619\n",
            "Epoch 46/50\n",
            "\u001b[1m363/363\u001b[0m \u001b[32m━━━━━━━━━━━━━━━━━━━━\u001b[0m\u001b[37m\u001b[0m \u001b[1m1s\u001b[0m 4ms/step - loss: 0.2619 - mean_absolute_error: 0.3489 - val_loss: 0.2848 - val_mean_absolute_error: 0.3550\n",
            "Epoch 47/50\n",
            "\u001b[1m363/363\u001b[0m \u001b[32m━━━━━━━━━━━━━━━━━━━━\u001b[0m\u001b[37m\u001b[0m \u001b[1m2s\u001b[0m 2ms/step - loss: 0.2468 - mean_absolute_error: 0.3443 - val_loss: 0.2861 - val_mean_absolute_error: 0.3631\n",
            "Epoch 48/50\n",
            "\u001b[1m363/363\u001b[0m \u001b[32m━━━━━━━━━━━━━━━━━━━━\u001b[0m\u001b[37m\u001b[0m \u001b[1m1s\u001b[0m 3ms/step - loss: 0.2475 - mean_absolute_error: 0.3448 - val_loss: 0.2940 - val_mean_absolute_error: 0.3724\n",
            "Epoch 49/50\n",
            "\u001b[1m363/363\u001b[0m \u001b[32m━━━━━━━━━━━━━━━━━━━━\u001b[0m\u001b[37m\u001b[0m \u001b[1m1s\u001b[0m 3ms/step - loss: 0.2529 - mean_absolute_error: 0.3477 - val_loss: 0.2920 - val_mean_absolute_error: 0.3641\n",
            "Epoch 50/50\n",
            "\u001b[1m363/363\u001b[0m \u001b[32m━━━━━━━━━━━━━━━━━━━━\u001b[0m\u001b[37m\u001b[0m \u001b[1m1s\u001b[0m 3ms/step - loss: 0.2519 - mean_absolute_error: 0.3477 - val_loss: 0.2819 - val_mean_absolute_error: 0.3518\n"
          ]
        },
        {
          "output_type": "execute_result",
          "data": {
            "text/plain": [
              "<keras.src.callbacks.history.History at 0x7930eb7ab210>"
            ]
          },
          "metadata": {},
          "execution_count": 46
        }
      ]
    }
  ]
}